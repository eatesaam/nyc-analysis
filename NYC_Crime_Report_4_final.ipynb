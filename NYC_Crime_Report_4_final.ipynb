{
  "cells": [
    {
      "cell_type": "markdown",
      "metadata": {
        "id": "TRab2zp25jCB"
      },
      "source": [
        "**NYC Crime Data Set Summary**\n",
        "\n",
        "The NYC Crime Data set contains information on crimes committed in New York City from 2006 to 2022. The data set includes the following information:\n",
        "\n",
        "* **Crime:** The type of crime committed, such as murder, robbery, or assault.\n",
        "* **Location**: The location where the crime was committed, including the borough, neighborhood, and street address.\n",
        "* **Date:** The date the crime was committed.\n",
        "* **Time:** The time the crime was committed.\n",
        "* **Victim:** Information about the victim of the crime, such as their age, race, and sex.\n",
        "* **Offender:** Information about the offender, such as their age, race, and sex.\n",
        "\n",
        "The data set can be used to analyze crime trends in New York City, identify factors that contribute to crime, and develop strategies to prevent crime.\n",
        "\n",
        "**Numerical Visualizations**\n",
        "\n",
        "Here are four numerical visualizations that can be created from the NYC Crime Data set:\n",
        "\n",
        "* **Crime rate by each hour:** This visualization shows the crime rate for each of the each hour of New York City. The crime rate is calculated as the number of crimes in per hour.\n",
        "* **Crime rate by each day of the week:** This visualization shows the crime rate for each day of the week. The crime rate is calculated as the number of crimes per day.\n",
        "* **Crime rate by Offense:** This visualization shows the crime rate for each offense. The crime rate is calculated as the number of crimes per offense.\n",
        "* **Crime rate by category on each year:** This visualization shows the crime rate for each crime category in New York City. The crime rate is calculated as the number of crimes per year."
      ]
    },
    {
      "cell_type": "code",
      "execution_count": 1,
      "metadata": {},
      "outputs": [],
      "source": [
        "import pandas as pd \n",
        "import matplotlib.pyplot as plt\n",
        "import plotly.express as px"
      ]
    },
    {
      "cell_type": "code",
      "execution_count": null,
      "metadata": {},
      "outputs": [],
      "source": [
        "data = pd.read_csv('NYPD_Complaint_Data_Historic_20231129.csv',encoding='latin')"
      ]
    },
    {
      "cell_type": "code",
      "execution_count": null,
      "metadata": {},
      "outputs": [],
      "source": [
        "data.head()"
      ]
    },
    {
      "cell_type": "code",
      "execution_count": 4,
      "metadata": {},
      "outputs": [],
      "source": [
        "def treemap(categories,title,path,values):\n",
        "    fig = px.treemap(categories, path=path, values=values, height=700,\n",
        "                 title=title, color_discrete_sequence = px.colors.sequential.RdBu)\n",
        "    fig.data[0].textinfo = 'label+text+value'\n",
        "    fig.show()"
      ]
    },
    {
      "cell_type": "code",
      "execution_count": 5,
      "metadata": {},
      "outputs": [],
      "source": [
        "def histogram(data,path,color,title,xaxis,yaxis):\n",
        "    fig = px.histogram(data, x=path,color=color,height=700)\n",
        "    fig.update_layout(\n",
        "        title_text=title,\n",
        "        xaxis_title_text=xaxis, \n",
        "        yaxis_title_text=yaxis, \n",
        "        bargap=0.2, \n",
        "        bargroupgap=0.1\n",
        "    )\n",
        "    fig.show()"
      ]
    },
    {
      "cell_type": "code",
      "execution_count": 6,
      "metadata": {},
      "outputs": [],
      "source": [
        "def bar(categories,x,y,color,title,xlab,ylab):\n",
        "    fig = px.bar(categories, x=x, y=y,\n",
        "             color=color,\n",
        "             height=700)\n",
        "    fig.update_layout(\n",
        "    title_text=title, \n",
        "    xaxis_title_text=xlab, \n",
        "    yaxis_title_text=ylab,\n",
        "    bargap=0.2, \n",
        "    bargroupgap=0.1\n",
        "    )\n",
        "    fig.show()"
      ]
    },
    {
      "cell_type": "code",
      "execution_count": 7,
      "metadata": {},
      "outputs": [],
      "source": [
        "#Calculate total number of crimes occurs in a single offense category\n",
        "Number_crimes = data['OFNS_DESC'].value_counts()\n",
        "values = Number_crimes.values\n",
        "categories = pd.DataFrame(data=Number_crimes.index, columns=[\"OFNS_DESC\"])\n",
        "categories['values'] = values"
      ]
    },
    {
      "cell_type": "markdown",
      "metadata": {},
      "source": [
        "**Chart 1 - Major Crimes in New York City**"
      ]
    },
    {
      "cell_type": "code",
      "execution_count": null,
      "metadata": {},
      "outputs": [],
      "source": [
        "treemap(categories,'Major Crimes in New York City',['OFNS_DESC'],categories['values'])"
      ]
    },
    {
      "cell_type": "markdown",
      "metadata": {},
      "source": [
        "The chart shows the major crimes in New York City by offense. The chart shows that the most common crime in New York City is petit larceny, followed by grand larceny, robbery, burglary, and dangerous weapons. Petit larceny is the theft of property worth less than $1,000. Grand larceny is the theft of property worth more than $1,000. Robbery is the taking of property from another person by the use of force or the threat of force. Burglary is the unlawful entry of a building with the intent to commit a crime. Dangerous weapons includes possession of a firearm, assault weapon, or other deadly weapon. The chart also shows that the crime rate varies by neighborhood. The neighborhoods with the highest crime rates are Brownsville, Bedford-Stuyvesant, and East New York. The neighborhoods with the lowest crime rates are the Upper East Side, Battery Park City, and the Financial District. Thefts account for the majority of major crimes in New York City, with petit larceny and grand larceny making up over 50% of all major crimes. Violent crimes, such as robbery and felony assault, are less common, but still account for a significant number of major crimes. The crime rate varies by neighborhood, with some neighborhoods having significantly higher crime rates than others."
      ]
    },
    {
      "cell_type": "code",
      "execution_count": 9,
      "metadata": {},
      "outputs": [],
      "source": [
        "# Convert the 'Date' column to datetime format\n",
        "data['DATE'] = pd.to_datetime(data['RPT_DT'])\n",
        "# Extract the year and create a new 'Year' column\n",
        "data['YEAR'] = data['DATE'].dt.year"
      ]
    },
    {
      "cell_type": "code",
      "execution_count": 10,
      "metadata": {},
      "outputs": [],
      "source": [
        "# Extract the day of week and create a new 'DAY_OF_WEEK' column\n",
        "data['DAY_OF_WEEK'] = data['DATE'].dt.strftime('%A')"
      ]
    },
    {
      "cell_type": "code",
      "execution_count": 11,
      "metadata": {},
      "outputs": [],
      "source": [
        "# Calcullate total number of crimes reported in a single day of week\n",
        "Number_crimes_days = data['DAY_OF_WEEK'].value_counts()\n",
        "days = pd.DataFrame(data=Number_crimes_days.index, columns=[\"DAY_OF_WEEK\"])\n",
        "days['values'] = Number_crimes_days.values"
      ]
    },
    {
      "cell_type": "markdown",
      "metadata": {},
      "source": [
        "**Chart 2 - Crime count on each day**"
      ]
    },
    {
      "cell_type": "code",
      "execution_count": null,
      "metadata": {},
      "outputs": [],
      "source": [
        "fig = px.histogram(data, y=\"DAY_OF_WEEK\",color=\"DAY_OF_WEEK\",height=700)\n",
        "fig.update_layout(\n",
        "    title_text='Crime count on each day', \n",
        "    xaxis_title_text='Day',\n",
        "    yaxis_title_text='Crimes Count', \n",
        "    bargap=0.2, \n",
        "    bargroupgap=0.1\n",
        ")\n",
        "fig.show()"
      ]
    },
    {
      "cell_type": "markdown",
      "metadata": {},
      "source": [
        "The chart shows, the crime rate is highest on Wednesdays and Tuesdays, with over 1.5 millions crimes committed on each of those days. The crime rate is lowest on Sundays, with around 1 million crimes committed. There are a few possible explanations for this pattern. One possibility is that people are more likely to be out and about on Wednesdays and Tuesdays, which makes them more vulnerable to crime. Another possibility is that people are more likely to drink alcohol on Wednesdays and Tuesdays, which can impair judgment and lead to risky behavior. Finally, it is also possible that criminals are more likely to operate on Wednesdays and Tuesdays because they know that people are more likely to be out and about on those days. Overall, the chart shows that the crime rate in the New York City is highest on Wednesdays and Tuesdays. This is likely due to a combination of factors, including the fact that people are more likely to be out and about on those days and that criminals are more likely to operate on those days."
      ]
    },
    {
      "cell_type": "code",
      "execution_count": 13,
      "metadata": {},
      "outputs": [
        {
          "name": "stderr",
          "output_type": "stream",
          "text": [
            "C:\\Users\\admin\\AppData\\Local\\Temp\\ipykernel_17616\\1365103968.py:2: UserWarning:\n",
            "\n",
            "Could not infer format, so each element will be parsed individually, falling back to `dateutil`. To ensure parsing is consistent and as-expected, please specify a format.\n",
            "\n"
          ]
        }
      ],
      "source": [
        "# Convert the 'Time' column to datetime format\n",
        "data['TIME'] = pd.to_datetime(data['CMPLNT_FR_TM'], errors='coerce')\n",
        "data['TIME'].fillna(pd.to_datetime('00:00:00'), inplace=True)\n",
        "# Get the hour and create a new 'Hour' column\n",
        "data['HOUR'] = data['TIME'].dt.hour.astype(int)\n"
      ]
    },
    {
      "cell_type": "markdown",
      "metadata": {},
      "source": [
        "**Chart 3 - Crime count on each Hour**"
      ]
    },
    {
      "cell_type": "code",
      "execution_count": null,
      "metadata": {},
      "outputs": [],
      "source": [
        "histogram(data,\"HOUR\",\"HOUR\",'Crime count on each Hour','Hour','Count')"
      ]
    },
    {
      "cell_type": "markdown",
      "metadata": {},
      "source": [
        "\n",
        "The chart shows the crime count on each hour. The chart shows that the crime count is highest between 3pm and 10pm, with over 100,000 crimes committed during each of those hours. The crime count is lowest between 6am and 9am, with around 50,000 crimes committed during each of those hours. There are a few possible explanations for this pattern. One possibility is that people are more likely to be out and about during the evening and night hours, which makes them more vulnerable to crime. Another possibility is that criminals are more likely to operate during the evening and night hours because they know that people are more likely to be asleep or not paying attention. Finally, it is also possible that certain types of crimes, such as robbery and assault, are more likely to occur during the evening and night hours. Overall, the chart shows that the crime count in the United States is highest between 3pm and 10pm. This is likely due to a combination of factors, including the fact that people are more likely to be out and about during those hours and that criminals are more likely to operate during those hours."
      ]
    },
    {
      "cell_type": "code",
      "execution_count": 15,
      "metadata": {},
      "outputs": [],
      "source": [
        "# Calculate total number of crimes reported in a year\n",
        "Number_crimes_year = data['YEAR'].value_counts()\n",
        "years = pd.DataFrame(data=Number_crimes_year.index, columns=[\"YEAR\"])\n",
        "years['values'] = Number_crimes_year.values"
      ]
    },
    {
      "cell_type": "markdown",
      "metadata": {},
      "source": [
        "**Chart 4 - Crime count per Category on each Year**"
      ]
    },
    {
      "cell_type": "code",
      "execution_count": null,
      "metadata": {},
      "outputs": [],
      "source": [
        "histogram(data,\"OFNS_DESC\",\"YEAR\",'Crime count per Category on each Year','Category','Crimes Count on each Year')"
      ]
    },
    {
      "cell_type": "markdown",
      "metadata": {},
      "source": [
        "The chart shows the crime count per category in New York City from 2006 to 2022. The most common crime in New York City is theft, followed by assault, robbery, burglary, and dangerous weapons. The chart also shows that the crime rate has been declining in recent years. In 2021, the crime rate was down 11% from the previous year. This is likely due to a combination of factors, including increased policing, improved community relations, and economic development. Despite the decline in crime, there are still some neighborhoods in New York City with high crime rates. These neighborhoods are typically located in low-income areas with high unemployment and poverty rates. The city is working to address crime in these neighborhoods through a variety of programs and initiatives, including after-school programs, job training programs, and community policing."
      ]
    },
    {
      "cell_type": "markdown",
      "metadata": {},
      "source": [
        "Map"
      ]
    },
    {
      "cell_type": "code",
      "execution_count": null,
      "metadata": {},
      "outputs": [],
      "source": [
        "import folium\n",
        "from folium import plugins\n",
        "from folium.plugins import HeatMap\n",
        "\n",
        "# Create a heatmap of crime locations\n",
        "# Sample: Take a subset of data for visualization\n",
        "sample_data = data.sample(n=100, random_state=42)\n",
        "\n",
        "sample_data['Latitude'] = sample_data['Latitude'].fillna(0)\n",
        "sample_data['Longitude'] = sample_data['Longitude'].fillna(0)\n",
        "\n",
        "# Convert latitude and longitude data to a list of coordinates\n",
        "coordinates = list(zip(sample_data['Latitude'], sample_data['Longitude']))\n",
        "\n",
        "# Create a base Folium map\n",
        "base_map = folium.Map(location=[40.7128, -74.0060], zoom_start=10)\n",
        "\n",
        "# Add heatmap layer\n",
        "heatmap = HeatMap(coordinates, radius=15)\n",
        "base_map.add_child(heatmap)\n",
        "base_map\n",
        "# Create a GeoJson object from the DataFrame\n",
        "features = []\n",
        "for index, row in data.iterrows():\n",
        "    feature = {\n",
        "        'type': 'Feature',\n",
        "        'geometry': {\n",
        "            'type': 'Point',\n",
        "            'coordinates': [row['Longitude'], row['Latitude']],\n",
        "        },\n",
        "        'properties': {\n",
        "            'time': str(row['CMPLNT_FR_DT']),\n",
        "            'style': {'color': 'red'},\n",
        "        },\n",
        "    }\n",
        "    features.append(feature)\n",
        "\n",
        "geojson = {\n",
        "    'type': 'FeatureCollection',\n",
        "    'features': features,\n",
        "}\n",
        "\n",
        "# Add TimestampedGeoJson to the map\n",
        "plugins.TimestampedGeoJson(\n",
        "    geojson,\n",
        "    period='P1D',  # Period between timestamps\n",
        "    add_last_point=True,  # Add last point to the map\n",
        ").add_to(base_map)\n",
        "\n",
        "# Display the map\n",
        "base_map"
      ]
    }
  ],
  "metadata": {
    "colab": {
      "provenance": []
    },
    "kernelspec": {
      "display_name": "Python 3",
      "name": "python3"
    },
    "language_info": {
      "codemirror_mode": {
        "name": "ipython",
        "version": 3
      },
      "file_extension": ".py",
      "mimetype": "text/x-python",
      "name": "python",
      "nbconvert_exporter": "python",
      "pygments_lexer": "ipython3",
      "version": "3.12.0"
    }
  },
  "nbformat": 4,
  "nbformat_minor": 0
}
